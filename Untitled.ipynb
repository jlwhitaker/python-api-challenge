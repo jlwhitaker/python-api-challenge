{
 "cells": [
  {
   "cell_type": "code",
   "execution_count": 3,
   "id": "f187ff82",
   "metadata": {},
   "outputs": [],
   "source": [
    "#OpenWeatherMap API Key\n",
    "weather_api_key = \"ed1ec73c643b9da20bb3e36644d5c60a\"\n",
    "\n",
    "#Google API Key\n",
    "#g_key = \n",
    "\n"
   ]
  },
  {
   "cell_type": "code",
   "execution_count": null,
   "id": "2efad36e",
   "metadata": {},
   "outputs": [],
   "source": []
  }
 ],
 "metadata": {
  "kernelspec": {
   "display_name": "Python 3",
   "language": "python",
   "name": "python3"
  },
  "language_info": {
   "codemirror_mode": {
    "name": "ipython",
    "version": 3
   },
   "file_extension": ".py",
   "mimetype": "text/x-python",
   "name": "python",
   "nbconvert_exporter": "python",
   "pygments_lexer": "ipython3",
   "version": "3.8.8"
  }
 },
 "nbformat": 4,
 "nbformat_minor": 5
}
